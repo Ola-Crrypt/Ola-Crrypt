{
  "nbformat": 4,
  "nbformat_minor": 0,
  "metadata": {
    "colab": {
      "provenance": [],
      "authorship_tag": "ABX9TyMZmcN7IcBA6Olo9ihIcdcM",
      "include_colab_link": true
    },
    "kernelspec": {
      "name": "python3",
      "display_name": "Python 3"
    },
    "language_info": {
      "name": "python"
    }
  },
  "cells": [
    {
      "cell_type": "markdown",
      "metadata": {
        "id": "view-in-github",
        "colab_type": "text"
      },
      "source": [
        "<a href=\"https://colab.research.google.com/github/Ola-Crrypt/Ola-Crrypt/blob/main/Numpy.ipynb\" target=\"_parent\"><img src=\"https://colab.research.google.com/assets/colab-badge.svg\" alt=\"Open In Colab\"/></a>"
      ]
    },
    {
      "cell_type": "markdown",
      "source": [
        "Create a 1D NumPy array with values from 1 to 10\n",
        "\n",
        "'A 1D means a linear expression or a single line of number\n",
        "\n"
      ],
      "metadata": {
        "id": "rSGoWibtH0rC"
      }
    },
    {
      "cell_type": "code",
      "source": [
        "#first thing is to import NUMPY\n",
        "import numpy as np\n",
        "value=np.array([1,2,3,4,5,6,7,8,9,10])\n",
        "print(value)"
      ],
      "metadata": {
        "colab": {
          "base_uri": "https://localhost:8080/"
        },
        "id": "6sTXOykWiOcm",
        "outputId": "6843d2f5-26ac-442e-d3ea-69d8c0e0d4b4"
      },
      "execution_count": null,
      "outputs": [
        {
          "output_type": "stream",
          "name": "stdout",
          "text": [
            "[ 1  2  3  4  5  6  7  8  9 10]\n"
          ]
        }
      ]
    },
    {
      "cell_type": "markdown",
      "source": [
        "now using a loop range to solve(introducing arange)"
      ],
      "metadata": {
        "id": "HXzpWy11J3Y-"
      }
    },
    {
      "cell_type": "code",
      "source": [
        "value=np.arange(1,11)\n",
        "print(value)"
      ],
      "metadata": {
        "colab": {
          "base_uri": "https://localhost:8080/"
        },
        "id": "mY5vxil9J5ga",
        "outputId": "df0fce76-ba8d-4bf2-95d5-ed1322d1b4d1"
      },
      "execution_count": null,
      "outputs": [
        {
          "output_type": "stream",
          "name": "stdout",
          "text": [
            "[ 1  2  3  4  5  6  7  8  9 10]\n"
          ]
        }
      ]
    },
    {
      "cell_type": "markdown",
      "source": [
        "Create a 3x3 array filled with zeros.Q2"
      ],
      "metadata": {
        "id": "q-SzAnzaKOho"
      }
    },
    {
      "cell_type": "code",
      "source": [
        "z_array=np.zeros((3,3))\n",
        "print(z_array)"
      ],
      "metadata": {
        "colab": {
          "base_uri": "https://localhost:8080/"
        },
        "id": "SA37T66Varsn",
        "outputId": "4a7577a7-0acc-42be-89bb-e6c5b8000e8f"
      },
      "execution_count": 29,
      "outputs": [
        {
          "output_type": "stream",
          "name": "stdout",
          "text": [
            "[[0. 0. 0.]\n",
            " [0. 0. 0.]\n",
            " [0. 0. 0.]]\n"
          ]
        }
      ]
    },
    {
      "cell_type": "markdown",
      "source": [
        "Create a 4x4 identity matrix."
      ],
      "metadata": {
        "id": "dZMvj5nyjx1y"
      }
    },
    {
      "cell_type": "code",
      "source": [
        "iden=np.identity(4)\n",
        "print(iden)"
      ],
      "metadata": {
        "colab": {
          "base_uri": "https://localhost:8080/"
        },
        "id": "vt7kycdyjy0B",
        "outputId": "5c808b02-331e-40d0-b1aa-01c1f2448f2c"
      },
      "execution_count": 38,
      "outputs": [
        {
          "output_type": "stream",
          "name": "stdout",
          "text": [
            "[[1. 0. 0. 0.]\n",
            " [0. 1. 0. 0.]\n",
            " [0. 0. 1. 0.]\n",
            " [0. 0. 0. 1.]]\n"
          ]
        }
      ]
    },
    {
      "cell_type": "markdown",
      "source": [
        "Generate an array of 10 random numbers between 0 and 1\n",
        "\n",
        "my question cant i get whole number with deciaml without using rand it??\n"
      ],
      "metadata": {
        "id": "znRK0k_CnK1t"
      }
    },
    {
      "cell_type": "code",
      "source": [
        "random=np.random.rand(10)\n",
        "print(random)"
      ],
      "metadata": {
        "colab": {
          "base_uri": "https://localhost:8080/"
        },
        "id": "tDGj57CdnMyi",
        "outputId": "0e07dedf-8093-4384-9161-bd315b7817fa"
      },
      "execution_count": 88,
      "outputs": [
        {
          "output_type": "stream",
          "name": "stdout",
          "text": [
            "[0.224498   0.422691   0.96246323 0.0036066  0.37675641 0.19295744\n",
            " 0.07737617 0.83131825 0.39355406 0.74381823]\n"
          ]
        }
      ]
    },
    {
      "cell_type": "markdown",
      "source": [
        "Create an array with even numbers from 2 to 20"
      ],
      "metadata": {
        "id": "_yugOzG2od14"
      }
    },
    {
      "cell_type": "code",
      "source": [
        "arr_ev=np.arange(2,0,2)\n",
        "print(arr_ev)\n"
      ],
      "metadata": {
        "colab": {
          "base_uri": "https://localhost:8080/"
        },
        "id": "8kCz4CK-odLK",
        "outputId": "ac35ee59-ec5f-4b59-dc27-dc4b4e64cb28"
      },
      "execution_count": 83,
      "outputs": [
        {
          "output_type": "stream",
          "name": "stdout",
          "text": [
            "[ 2  4  6  8 10 12 14 16 18]\n"
          ]
        }
      ]
    },
    {
      "cell_type": "markdown",
      "source": [
        "Find the shape and size of a given NumPy array.\n",
        "\n",
        "<!-- why is there a comma at the end  -->\n",
        "\n",
        "<!-- whats the difference btw size and shape?? -->"
      ],
      "metadata": {
        "id": "2jrHpDgPqWwU"
      }
    },
    {
      "cell_type": "code",
      "source": [
        "array=[1,2,3,4,5,6,7,8,9,10]\n",
        "print(np.shape(array))\n",
        "print(np.size(array))"
      ],
      "metadata": {
        "colab": {
          "base_uri": "https://localhost:8080/"
        },
        "id": "cl0RZS02qXZ3",
        "outputId": "2bd404aa-6ff6-46a2-8cd5-4d25cb4d4c10"
      },
      "execution_count": 103,
      "outputs": [
        {
          "output_type": "stream",
          "name": "stdout",
          "text": [
            "(10,)\n",
            "10\n"
          ]
        }
      ]
    },
    {
      "cell_type": "markdown",
      "source": [
        "reshape an array from 1D to 2D (e.g., 1D array of size 9 to 3x3)."
      ],
      "metadata": {
        "id": "Ghkv9v9NtXcx"
      }
    },
    {
      "cell_type": "code",
      "source": [
        "array_1D=np.array([1,2,3,4,5,6,7,8,9]).reshape(3,3)\n",
        "#array_1D=np.array([1,2,3,4,5,6,7,8,9]\n",
        "#x=array_1D.reshape(3,3)\n",
        "#print(x)\n",
        "print(array_1D)"
      ],
      "metadata": {
        "colab": {
          "base_uri": "https://localhost:8080/"
        },
        "id": "3b_ICSD0tbSA",
        "outputId": "b2ab9e8c-88a0-4277-cf93-1c3af169b520"
      },
      "execution_count": 118,
      "outputs": [
        {
          "output_type": "stream",
          "name": "stdout",
          "text": [
            "[[1 2 3]\n",
            " [4 5 6]\n",
            " [7 8 9]]\n"
          ]
        }
      ]
    }
  ]
}