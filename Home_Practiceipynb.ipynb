{
  "nbformat": 4,
  "nbformat_minor": 0,
  "metadata": {
    "colab": {
      "provenance": [],
      "authorship_tag": "ABX9TyNBLKkn4ECcoyqtxYDA4+5Q",
      "include_colab_link": true
    },
    "kernelspec": {
      "name": "python3",
      "display_name": "Python 3"
    },
    "language_info": {
      "name": "python"
    }
  },
  "cells": [
    {
      "cell_type": "markdown",
      "metadata": {
        "id": "view-in-github",
        "colab_type": "text"
      },
      "source": [
        "<a href=\"https://colab.research.google.com/github/Ola-Crrypt/Ola-Crrypt/blob/main/Home_Practiceipynb.ipynb\" target=\"_parent\"><img src=\"https://colab.research.google.com/assets/colab-badge.svg\" alt=\"Open In Colab\"/></a>"
      ]
    },
    {
      "cell_type": "markdown",
      "source": [
        "Two incompletes functions\n",
        "sqaure_loop and square_comprehension"
      ],
      "metadata": {
        "id": "_Kd0OYj32jrK"
      }
    },
    {
      "cell_type": "code",
      "source": [
        "def square_loop(n):\n",
        "  sqaures=[]\n",
        "  for i in range(1,n+1):\n",
        "    sqaures.append(i**2)\n",
        "  return sqaures\n",
        "print(square_loop(10))"
      ],
      "metadata": {
        "colab": {
          "base_uri": "https://localhost:8080/"
        },
        "id": "jYzBsc6g23Op",
        "outputId": "d74642ca-6064-49b8-a93f-38eb24050841"
      },
      "execution_count": null,
      "outputs": [
        {
          "output_type": "stream",
          "name": "stdout",
          "text": [
            "[1, 4, 9, 16, 25, 36, 49, 64, 81]\n"
          ]
        }
      ]
    },
    {
      "cell_type": "markdown",
      "source": [
        "The first sqaure numbers means, any positive integers before (n), including (n)."
      ],
      "metadata": {
        "id": "PrzmK4Ka3EZP"
      }
    },
    {
      "cell_type": "code",
      "source": [
        "def square_comprehension(n):\n",
        "  squares=[i**2 for i in range(1,n+1)]\n",
        "  return squares\n",
        "print(square_comprehension(10))"
      ],
      "metadata": {
        "colab": {
          "base_uri": "https://localhost:8080/"
        },
        "id": "WavgVtDh4zTx",
        "outputId": "d7b68c13-9c06-4171-c970-d33aca027f11"
      },
      "execution_count": null,
      "outputs": [
        {
          "output_type": "stream",
          "name": "stdout",
          "text": [
            "[1, 4, 9, 16, 25, 36, 49, 64, 81, 100]\n"
          ]
        }
      ]
    },
    {
      "cell_type": "markdown",
      "source": [
        "Generate the first n cube numbers using functions\n",
        "\n",
        "\n"
      ],
      "metadata": {
        "id": "bq0nJkJqBi0r"
      }
    },
    {
      "cell_type": "code",
      "source": [
        "def cube_numbers(n):\n",
        "  z=[]\n",
        "  for i in range(1,n+1):\n",
        "    x=i**3\n",
        "    z.append(x)\n",
        "  return z\n",
        "print(cube_numbers(10))\n",
        "\n",
        "\n",
        "def cube_comprehension(n):\n",
        "  cube=[i**3 for i in range(1,n+1)]\n",
        "  return cube\n",
        "print(cube_comprehension(10))"
      ],
      "metadata": {
        "colab": {
          "base_uri": "https://localhost:8080/"
        },
        "id": "pB4Z1NT27pvW",
        "outputId": "f1d1556f-3faf-40c7-d6fd-2318b6e89020"
      },
      "execution_count": null,
      "outputs": [
        {
          "output_type": "execute_result",
          "data": {
            "text/plain": [
              "[1, 8, 27, 64, 125, 216, 343, 512, 729, 1000]"
            ]
          },
          "metadata": {},
          "execution_count": 66
        }
      ]
    },
    {
      "cell_type": "markdown",
      "source": [
        "Question:\n",
        "Write two functions to generate a list of the first n even numbers:\n",
        "\n",
        " This function uses a for loop to generate the list.\n",
        "even_numbers_comprehension(n): This function uses a list comprehension to achieve the same task\n",
        "\n",
        "\n",
        "Two functions needed and are given"
      ],
      "metadata": {
        "id": "T6A5eMw2FV_r"
      }
    },
    {
      "cell_type": "code",
      "source": [
        "def even_numbers_loop(n):\n",
        "  a_list=[]\n",
        "  for i in range(1,n+1):\n",
        "   if i%2==0:\n",
        "    a_list.append(i%2==0)\n",
        "  return  a_list\n",
        "print(even_numbers_loop(10))"
      ],
      "metadata": {
        "colab": {
          "base_uri": "https://localhost:8080/"
        },
        "id": "qm4x0YBODs9z",
        "outputId": "6e9ec24e-dfc0-40bd-b3e3-fa7767596f85"
      },
      "execution_count": null,
      "outputs": [
        {
          "output_type": "stream",
          "name": "stdout",
          "text": [
            "[True, True, True, True, True]\n"
          ]
        }
      ]
    },
    {
      "cell_type": "code",
      "source": [
        "def even_num(n):\n",
        "  list=[]\n",
        "  for i in range(1,n+1):\n",
        "    list.append(i%2==0)\n",
        "  return list\n",
        "print(even_num(10))"
      ],
      "metadata": {
        "colab": {
          "base_uri": "https://localhost:8080/"
        },
        "id": "EW69mId5MSEM",
        "outputId": "5e4a6dd5-af47-4f19-a146-fa34e779bc39"
      },
      "execution_count": null,
      "outputs": [
        {
          "output_type": "stream",
          "name": "stdout",
          "text": [
            "[False, True, False, True, False, True, False, True, False, True]\n"
          ]
        }
      ]
    },
    {
      "cell_type": "markdown",
      "source": [
        "using ordinary loop to answer the question"
      ],
      "metadata": {
        "id": "RDuRLzDHFr14"
      }
    },
    {
      "cell_type": "code",
      "source": [
        "for i in range(1,10+1):\n",
        "  current=i\n",
        "  if i%2==0:\n",
        "    print(\"current\",i)\n",
        "  else:\n",
        "    print()\n"
      ],
      "metadata": {
        "colab": {
          "base_uri": "https://localhost:8080/"
        },
        "id": "0d3DZLmtFrIO",
        "outputId": "94e6bf6f-6ae8-460a-a7e6-21e734f585f9"
      },
      "execution_count": null,
      "outputs": [
        {
          "output_type": "stream",
          "name": "stdout",
          "text": [
            "\n",
            "current 2\n",
            "\n",
            "current 4\n",
            "\n",
            "current 6\n",
            "\n",
            "current 8\n",
            "\n",
            "current 10\n"
          ]
        }
      ]
    },
    {
      "cell_type": "code",
      "source": [
        "def even_numbers_loop(n):\n",
        "    a_list = []\n",
        "    for i in range(1, n + 1):\n",
        "        if i % 2 == 0:  # Check if the number is even\n",
        "            a_list.append(i)  # Append even numbers to the list\n",
        "    return a_list\n",
        "\n",
        "# Testing the function\n",
        "print(even_numbers_loop(10))  # Output: [2, 4, 6, 8, 10]\n"
      ],
      "metadata": {
        "colab": {
          "base_uri": "https://localhost:8080/"
        },
        "id": "vufMA0SWK5_p",
        "outputId": "ca90299f-ccd8-428f-bb3f-741e9f627210"
      },
      "execution_count": null,
      "outputs": [
        {
          "output_type": "stream",
          "name": "stdout",
          "text": [
            "[2, 4, 6, 8, 10]\n"
          ]
        }
      ]
    },
    {
      "cell_type": "code",
      "source": [
        "def even_num_comp(n):\n",
        "  comp=[i for i in range(1,n+1)if i%2==0]\n",
        "  return comp\n",
        "print(even_num_comp(10))"
      ],
      "metadata": {
        "colab": {
          "base_uri": "https://localhost:8080/"
        },
        "id": "vXnR3-frIGzX",
        "outputId": "ee357846-da03-46be-e076-4fea36b280df"
      },
      "execution_count": null,
      "outputs": [
        {
          "output_type": "stream",
          "name": "stdout",
          "text": [
            "[2, 4, 6, 8, 10]\n"
          ]
        }
      ]
    },
    {
      "cell_type": "markdown",
      "source": [
        "loop to generate the list of odd numbers\n"
      ],
      "metadata": {
        "id": "Zd10Z74Fdq7q"
      }
    },
    {
      "cell_type": "code",
      "source": [
        "def odd_numbers_loop(n):\n",
        "  empty_list=[]\n",
        "  for i in range(1,n+1):\n",
        "    if i%2!=0:\n",
        "     empty_list.append(i)\n",
        "  return empty_list\n",
        "print(odd_numbers_loop(10))"
      ],
      "metadata": {
        "colab": {
          "base_uri": "https://localhost:8080/"
        },
        "id": "OueZcY5QdveO",
        "outputId": "6a0279d0-8b16-4267-985e-277cb3c0405b"
      },
      "execution_count": null,
      "outputs": [
        {
          "output_type": "stream",
          "name": "stdout",
          "text": [
            "[1, 3, 5, 7, 9]\n"
          ]
        }
      ]
    },
    {
      "cell_type": "code",
      "source": [
        "def odd_comp(n):\n",
        "  x=[i for i in range(1,n+1) if i%2!=0]\n",
        "  return x\n",
        "print(odd_comp(10))\n"
      ],
      "metadata": {
        "colab": {
          "base_uri": "https://localhost:8080/"
        },
        "id": "SwYCF4xrg5WT",
        "outputId": "a1abb9a7-06cb-40aa-f7f9-9fef3815f74f"
      },
      "execution_count": null,
      "outputs": [
        {
          "output_type": "stream",
          "name": "stdout",
          "text": [
            "[1, 3, 5, 7, 9]\n"
          ]
        }
      ]
    }
  ]
}