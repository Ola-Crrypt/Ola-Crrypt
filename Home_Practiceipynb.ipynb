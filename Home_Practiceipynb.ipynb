{
  "nbformat": 4,
  "nbformat_minor": 0,
  "metadata": {
    "colab": {
      "provenance": [],
      "authorship_tag": "ABX9TyOicuh4AGRi0eca5RzaZR2j",
      "include_colab_link": true
    },
    "kernelspec": {
      "name": "python3",
      "display_name": "Python 3"
    },
    "language_info": {
      "name": "python"
    }
  },
  "cells": [
    {
      "cell_type": "markdown",
      "metadata": {
        "id": "view-in-github",
        "colab_type": "text"
      },
      "source": [
        "<a href=\"https://colab.research.google.com/github/Ola-Crrypt/Ola-Crrypt/blob/main/Home_Practiceipynb.ipynb\" target=\"_parent\"><img src=\"https://colab.research.google.com/assets/colab-badge.svg\" alt=\"Open In Colab\"/></a>"
      ]
    },
    {
      "cell_type": "markdown",
      "source": [
        "Two incompletes functions\n",
        "sqaure_loop and square_comprehension"
      ],
      "metadata": {
        "id": "_Kd0OYj32jrK"
      }
    },
    {
      "cell_type": "code",
      "source": [
        "def square_loop(n):\n",
        "  sqaures=[]\n",
        "  for i in range(1,n+1):\n",
        "    sqaures.append(i**2)\n",
        "  return sqaures\n",
        "print(square_loop(10))"
      ],
      "metadata": {
        "colab": {
          "base_uri": "https://localhost:8080/"
        },
        "id": "jYzBsc6g23Op",
        "outputId": "d74642ca-6064-49b8-a93f-38eb24050841"
      },
      "execution_count": 32,
      "outputs": [
        {
          "output_type": "stream",
          "name": "stdout",
          "text": [
            "[1, 4, 9, 16, 25, 36, 49, 64, 81]\n"
          ]
        }
      ]
    },
    {
      "cell_type": "code",
      "source": [
        "def square_comprehension(n):\n",
        "  squares=[i**2 for i in range(1,n+1)]\n",
        "  return squares\n",
        "print(square_comprehension(10))"
      ],
      "metadata": {
        "colab": {
          "base_uri": "https://localhost:8080/"
        },
        "id": "WavgVtDh4zTx",
        "outputId": "d7b68c13-9c06-4171-c970-d33aca027f11"
      },
      "execution_count": 35,
      "outputs": [
        {
          "output_type": "stream",
          "name": "stdout",
          "text": [
            "[1, 4, 9, 16, 25, 36, 49, 64, 81, 100]\n"
          ]
        }
      ]
    },
    {
      "cell_type": "markdown",
      "source": [
        "The first sqaure numbers means, any positive integers before (n), including (n)."
      ],
      "metadata": {
        "id": "PrzmK4Ka3EZP"
      }
    }
  ]
}