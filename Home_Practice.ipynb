{
  "nbformat": 4,
  "nbformat_minor": 0,
  "metadata": {
    "colab": {
      "provenance": [],
      "authorship_tag": "ABX9TyNVSxAycKp/GFSBdRBkIPsc",
      "include_colab_link": true
    },
    "kernelspec": {
      "name": "python3",
      "display_name": "Python 3"
    },
    "language_info": {
      "name": "python"
    }
  },
  "cells": [
    {
      "cell_type": "markdown",
      "metadata": {
        "id": "view-in-github",
        "colab_type": "text"
      },
      "source": [
        "<a href=\"https://colab.research.google.com/github/Ola-Crrypt/Ola-Crrypt/blob/main/Home_Practice.ipynb\" target=\"_parent\"><img src=\"https://colab.research.google.com/assets/colab-badge.svg\" alt=\"Open In Colab\"/></a>"
      ]
    },
    {
      "cell_type": "code",
      "source": [
        "import numpy as np\n",
        "\n",
        "x=np.random.choice([6,4,3],(3,3))\n",
        "\n",
        "print(x)\n"
      ],
      "metadata": {
        "id": "NZzuKakAusrP",
        "outputId": "dc833889-fff2-47fd-84df-02c2ee0fce23",
        "colab": {
          "base_uri": "https://localhost:8080/"
        }
      },
      "execution_count": 1,
      "outputs": [
        {
          "output_type": "stream",
          "name": "stdout",
          "text": [
            "[[3 4 6]\n",
            " [3 4 6]\n",
            " [4 4 6]]\n"
          ]
        }
      ]
    },
    {
      "cell_type": "code",
      "source": [
        "np.full((6,6),3)\n",
        "#(row,column),num)."
      ],
      "metadata": {
        "id": "5ycm93eMvhjw",
        "outputId": "d77c962a-5a34-40c4-eeea-ae6b21756734",
        "colab": {
          "base_uri": "https://localhost:8080/"
        }
      },
      "execution_count": 19,
      "outputs": [
        {
          "output_type": "execute_result",
          "data": {
            "text/plain": [
              "array([[3, 3, 3, 3, 3, 3],\n",
              "       [3, 3, 3, 3, 3, 3],\n",
              "       [3, 3, 3, 3, 3, 3],\n",
              "       [3, 3, 3, 3, 3, 3],\n",
              "       [3, 3, 3, 3, 3, 3],\n",
              "       [3, 3, 3, 3, 3, 3]])"
            ]
          },
          "metadata": {},
          "execution_count": 19
        }
      ]
    },
    {
      "cell_type": "markdown",
      "source": [
        "1. Create a 3 by 4 array of random integers between 3 and 10.\n",
        "2. Create a 5 by 5 array  consisting 10 all through\n",
        "\n",
        "```\n",
        "# This is formatted as code\n",
        "```\n",
        "\n"
      ],
      "metadata": {
        "id": "H5ngNzovFWzw"
      }
    },
    {
      "cell_type": "code",
      "source": [
        "import numpy as np\n",
        "\n",
        "x=np.random.randint(3,11,(3,4))\n",
        "print(x)\n",
        "\n"
      ],
      "metadata": {
        "id": "0evjiyIPFW_j",
        "outputId": "fcb3bf0f-31f2-4cca-902f-4b4d08a53eda",
        "colab": {
          "base_uri": "https://localhost:8080/"
        }
      },
      "execution_count": 18,
      "outputs": [
        {
          "output_type": "stream",
          "name": "stdout",
          "text": [
            "[[ 7 10 10  5]\n",
            " [10  8  3 10]\n",
            " [ 8  6  5  9]]\n"
          ]
        }
      ]
    },
    {
      "cell_type": "markdown",
      "source": [
        "Generate a random integer between 1 and 10."
      ],
      "metadata": {
        "id": "GLArME1INNIS"
      }
    },
    {
      "cell_type": "code",
      "source": [
        "np.random.randint(1,10)"
      ],
      "metadata": {
        "id": "X9KePyqKNOB1",
        "outputId": "16ec4ca6-2db5-4e00-ee70-4164998eff8d",
        "colab": {
          "base_uri": "https://localhost:8080/"
        }
      },
      "execution_count": 42,
      "outputs": [
        {
          "output_type": "execute_result",
          "data": {
            "text/plain": [
              "2"
            ]
          },
          "metadata": {},
          "execution_count": 42
        }
      ]
    },
    {
      "cell_type": "markdown",
      "source": [
        "Create a 3×3 matrix with random integers between 0 and 20."
      ],
      "metadata": {
        "id": "EV1b6YY-OhHk"
      }
    },
    {
      "cell_type": "code",
      "source": [
        "np.random.randint(0,21,(3,3))"
      ],
      "metadata": {
        "id": "QT22ikRAOiAT",
        "outputId": "65deaa21-f2bd-452e-c85b-6fe243044430",
        "colab": {
          "base_uri": "https://localhost:8080/"
        }
      },
      "execution_count": 52,
      "outputs": [
        {
          "output_type": "execute_result",
          "data": {
            "text/plain": [
              "array([[18, 10, 20],\n",
              "       [10, 11, 12],\n",
              "       [12, 10,  0]])"
            ]
          },
          "metadata": {},
          "execution_count": 52
        }
      ]
    },
    {
      "cell_type": "markdown",
      "source": [
        "Generate a 1D array of 5 random integers between 50 and 100."
      ],
      "metadata": {
        "id": "jb97cK3-Ptdj"
      }
    },
    {
      "cell_type": "code",
      "source": [
        "np.random.randint(50,101,(5))"
      ],
      "metadata": {
        "id": "fO78gwG7Puu8",
        "outputId": "7b610aa9-678f-475e-e935-e9b75ad0abac",
        "colab": {
          "base_uri": "https://localhost:8080/"
        }
      },
      "execution_count": 53,
      "outputs": [
        {
          "output_type": "execute_result",
          "data": {
            "text/plain": [
              "array([71, 55, 97, 57, 84])"
            ]
          },
          "metadata": {},
          "execution_count": 53
        }
      ]
    },
    {
      "cell_type": "markdown",
      "source": [
        "Create a 4×2 matrix with random integers between -10 and 10."
      ],
      "metadata": {
        "id": "OX4k7qtzSWjz"
      }
    },
    {
      "cell_type": "code",
      "source": [
        "np.random.randint(-10,11,(4,2))"
      ],
      "metadata": {
        "id": "9kOhXxFZSXXz",
        "outputId": "082a2ed1-70d6-4799-e6b5-f4d1a600e652",
        "colab": {
          "base_uri": "https://localhost:8080/"
        }
      },
      "execution_count": 55,
      "outputs": [
        {
          "output_type": "execute_result",
          "data": {
            "text/plain": [
              "array([[-3, 10],\n",
              "       [-4, -6],\n",
              "       [ 1, 10],\n",
              "       [ 4, -3]])"
            ]
          },
          "metadata": {},
          "execution_count": 55
        }
      ]
    },
    {
      "cell_type": "markdown",
      "source": [
        "Generate a 2×5 matrix of random numbers between 1 and 5 (inclusive of 1, exclusive of 6)."
      ],
      "metadata": {
        "id": "p1HZ6vRlTcFj"
      }
    },
    {
      "cell_type": "code",
      "source": [
        "np.random.randint(1,5,(2,5))"
      ],
      "metadata": {
        "id": "mCGRAw_HTg--",
        "outputId": "b6974804-039c-4e47-ad57-a70e6f6a2b97",
        "colab": {
          "base_uri": "https://localhost:8080/"
        }
      },
      "execution_count": 56,
      "outputs": [
        {
          "output_type": "execute_result",
          "data": {
            "text/plain": [
              "array([[3, 1, 2, 2, 4],\n",
              "       [4, 4, 4, 4, 1]])"
            ]
          },
          "metadata": {},
          "execution_count": 56
        }
      ]
    },
    {
      "cell_type": "markdown",
      "source": [
        "Generate a 3×3 matrix with random numbers between 10 and 99 and find the maximum value"
      ],
      "metadata": {
        "id": "zHWvR3B6TsXw"
      }
    },
    {
      "cell_type": "code",
      "source": [
        "x=np.random.randint(10,100,(3,3))\n",
        "y=np.max(x)\n",
        "print(x,y)"
      ],
      "metadata": {
        "id": "rbP_T89ETtgx",
        "outputId": "51837ab7-c961-4bc6-ae9f-18771fb6a3ef",
        "colab": {
          "base_uri": "https://localhost:8080/"
        }
      },
      "execution_count": 67,
      "outputs": [
        {
          "output_type": "stream",
          "name": "stdout",
          "text": [
            "[[45 20 72]\n",
            " [70 63 81]\n",
            " [73 34 87]] 87\n"
          ]
        }
      ]
    },
    {
      "cell_type": "markdown",
      "source": [
        "Create a 5×5 matrix with random numbers between 1 and 50 and replace all even numbers with 0."
      ],
      "metadata": {
        "id": "ujoexz5dTRjF"
      }
    },
    {
      "cell_type": "code",
      "source": [
        "x=np.random.randint(1,51,(5,5))\n",
        "x[x%2==0]=0\n",
        "print(x)"
      ],
      "metadata": {
        "id": "arIomyxEViBM",
        "outputId": "9171c6bd-248e-4f8c-c00a-59e84f14bb3a",
        "colab": {
          "base_uri": "https://localhost:8080/"
        }
      },
      "execution_count": 72,
      "outputs": [
        {
          "output_type": "stream",
          "name": "stdout",
          "text": [
            "[[ 0 11  3 37  0]\n",
            " [11  0  0 25 11]\n",
            " [19 17 21  5  0]\n",
            " [15  0 31  7  0]\n",
            " [25 43  7  0 43]]\n"
          ]
        }
      ]
    },
    {
      "cell_type": "markdown",
      "source": [
        "Generate a 4×4 matrix and find the sum of all its elements"
      ],
      "metadata": {
        "id": "tv-ilt_IXJ_F"
      }
    },
    {
      "cell_type": "code",
      "source": [
        "x=np.random.randint(0,101,(4,4))\n",
        "y=np.sum(x)\n",
        "print(x,y)"
      ],
      "metadata": {
        "id": "5EsKb1REXNwu",
        "outputId": "d76e5f74-b1e4-4f71-c88c-65cc3640b914",
        "colab": {
          "base_uri": "https://localhost:8080/"
        }
      },
      "execution_count": 83,
      "outputs": [
        {
          "output_type": "stream",
          "name": "stdout",
          "text": [
            "[[71 88 62 74]\n",
            " [98 73 68 80]\n",
            " [ 7 86 90 46]\n",
            " [30 78 45  8]] 1004\n"
          ]
        }
      ]
    },
    {
      "cell_type": "markdown",
      "source": [
        "Create a 3×3 matrix with numbers between 1 and 9 and calculate the row-wise sum."
      ],
      "metadata": {
        "id": "V6VErZ49X4Lc"
      }
    },
    {
      "cell_type": "code",
      "source": [
        "x=np.random.randint(1,10,(3,3))\n",
        "y=np.sum(x,axis=1)\n",
        "print(x,y)"
      ],
      "metadata": {
        "id": "k4XhQo23X4pH",
        "outputId": "c598e48c-bf7f-4cc3-c615-5d5c76f8ffc8",
        "colab": {
          "base_uri": "https://localhost:8080/"
        }
      },
      "execution_count": 86,
      "outputs": [
        {
          "output_type": "stream",
          "name": "stdout",
          "text": [
            "[[1 6 9]\n",
            " [7 8 8]\n",
            " [3 8 1]] [16 23 12]\n"
          ]
        }
      ]
    },
    {
      "cell_type": "markdown",
      "source": [
        "Generate a 2×4 matrix and find the index of the highest number"
      ],
      "metadata": {
        "id": "DHJEKP_CY2QE"
      }
    },
    {
      "cell_type": "code",
      "source": [
        "x=np.random.randint(0,11,(2,4))\n",
        "y=np.max(x)\n",
        "print(x,y)"
      ],
      "metadata": {
        "id": "XJBGjTpBY3CX",
        "outputId": "392a1e24-f77b-4993-ce72-e018f044610f",
        "colab": {
          "base_uri": "https://localhost:8080/"
        }
      },
      "execution_count": 90,
      "outputs": [
        {
          "output_type": "stream",
          "name": "stdout",
          "text": [
            "[[10  3  7  2]\n",
            " [10  7  0  8]] 10\n"
          ]
        }
      ]
    },
    {
      "cell_type": "code",
      "source": [
        "\n",
        "np.random.rand(10)\n"
      ],
      "metadata": {
        "id": "_i3sq_rpaCFX",
        "outputId": "6d0d0cbd-44d4-4fad-b1cd-bffd2cdb458a",
        "colab": {
          "base_uri": "https://localhost:8080/"
        }
      },
      "execution_count": 92,
      "outputs": [
        {
          "output_type": "execute_result",
          "data": {
            "text/plain": [
              "array([0.06258825, 0.8819086 , 0.24243235, 0.84320875, 0.94396518,\n",
              "       0.01350988, 0.73160353, 0.77101434, 0.04313438, 0.92760423])"
            ]
          },
          "metadata": {},
          "execution_count": 92
        }
      ]
    },
    {
      "cell_type": "code",
      "source": [
        "np.arange(2,21,2)"
      ],
      "metadata": {
        "id": "CItHk51lbP-r",
        "outputId": "19cac57a-2900-49f7-acbc-c5f69b0bae83",
        "colab": {
          "base_uri": "https://localhost:8080/"
        }
      },
      "execution_count": 94,
      "outputs": [
        {
          "output_type": "execute_result",
          "data": {
            "text/plain": [
              "array([ 2,  4,  6,  8, 10, 12, 14, 16, 18, 20])"
            ]
          },
          "metadata": {},
          "execution_count": 94
        }
      ]
    },
    {
      "cell_type": "markdown",
      "source": [
        "Generate an array of 10 random numbers between 0 and 1.\n"
      ],
      "metadata": {
        "id": "FD5wa_Q8aVcM"
      }
    },
    {
      "cell_type": "code",
      "source": [
        "import numpy as np\n",
        "x=np.array([1,2,3,4,5,6,7,8,9]).reshape(3,3)\n",
        "print(x)\n"
      ],
      "metadata": {
        "id": "bE8OXTnaCXTZ",
        "outputId": "086a985a-c0a1-4902-b804-17da9db14200",
        "colab": {
          "base_uri": "https://localhost:8080/"
        }
      },
      "execution_count": 1,
      "outputs": [
        {
          "output_type": "stream",
          "name": "stdout",
          "text": [
            "[[1 2 3]\n",
            " [4 5 6]\n",
            " [7 8 9]]\n"
          ]
        }
      ]
    }
  ]
}