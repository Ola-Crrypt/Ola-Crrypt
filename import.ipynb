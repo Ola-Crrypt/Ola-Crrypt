{
  "nbformat": 4,
  "nbformat_minor": 0,
  "metadata": {
    "colab": {
      "provenance": [],
      "authorship_tag": "ABX9TyNbSrE+06HC5CQqIObz0CV2",
      "include_colab_link": true
    },
    "kernelspec": {
      "name": "python3",
      "display_name": "Python 3"
    },
    "language_info": {
      "name": "python"
    }
  },
  "cells": [
    {
      "cell_type": "markdown",
      "metadata": {
        "id": "view-in-github",
        "colab_type": "text"
      },
      "source": [
        "<a href=\"https://colab.research.google.com/github/Ola-Crrypt/Ola-Crrypt/blob/main/import.ipynb\" target=\"_parent\"><img src=\"https://colab.research.google.com/assets/colab-badge.svg\" alt=\"Open In Colab\"/></a>"
      ]
    },
    {
      "cell_type": "markdown",
      "source": [
        "Area of a circle is pi*r squared"
      ],
      "metadata": {
        "id": "ONIZ9IcZh5vw"
      }
    },
    {
      "cell_type": "code",
      "execution_count": 14,
      "metadata": {
        "colab": {
          "base_uri": "https://localhost:8080/"
        },
        "id": "eELCd1V-hyH1",
        "outputId": "355a142b-8f64-45c0-bf48-8eff2431f637"
      },
      "outputs": [
        {
          "output_type": "stream",
          "name": "stdout",
          "text": [
            "type any number for radius2\n",
            "The radius input is  2.0  is  12.57\n"
          ]
        }
      ],
      "source": [
        "#Firstly importing math library\n",
        "import math\n",
        "#formua:pi * r **2\n",
        "radius=float(input(\"type any number for radius\"))\n",
        "a_o_c=math.pi*math.pow(radius,2)\n",
        "print(f\"The radius input is  {radius}  is  {a_o_c:.2f}\")"
      ]
    },
    {
      "cell_type": "markdown",
      "source": [
        "square root of a number"
      ],
      "metadata": {
        "id": "MshWZVvoo2ja"
      }
    },
    {
      "cell_type": "code",
      "source": [
        "import math as m\n",
        "num=int(input(\"type in a number\"))\n",
        "sq=m.sqrt(num)\n",
        "print(f\"The square root of {num} is {sq}\")"
      ],
      "metadata": {
        "colab": {
          "base_uri": "https://localhost:8080/"
        },
        "id": "kXbDQxejpCrx",
        "outputId": "57a5fd85-19d4-426e-c4db-2f82e76f08a4"
      },
      "execution_count": 17,
      "outputs": [
        {
          "output_type": "stream",
          "name": "stdout",
          "text": [
            "type in a number36\n",
            "The square root of 36 is 6.0\n"
          ]
        }
      ]
    },
    {
      "cell_type": "markdown",
      "source": [
        " find the factorial of a given number"
      ],
      "metadata": {
        "id": "IgdFJzzOsf0L"
      }
    },
    {
      "cell_type": "code",
      "source": [
        "import  math as m\n",
        "num=10\n",
        "f=m.factorial(num)\n",
        "print(f\"The factorial {num} is {f} \")"
      ],
      "metadata": {
        "colab": {
          "base_uri": "https://localhost:8080/"
        },
        "id": "m-MdsD5psg6y",
        "outputId": "6d23f23f-74c9-4671-875a-d7b168708fde"
      },
      "execution_count": 18,
      "outputs": [
        {
          "output_type": "stream",
          "name": "stdout",
          "text": [
            "The factorial 10 is 3628800 \n"
          ]
        }
      ]
    },
    {
      "cell_type": "markdown",
      "source": [
        "find the GCD of two numbers."
      ],
      "metadata": {
        "id": "kjKytoZ_tIVR"
      }
    },
    {
      "cell_type": "code",
      "source": [
        "import math as m\n",
        "num_1=2\n",
        "num_2=8\n",
        "gcd=m.gcd(num_1,num_2)\n",
        "print(f\"The gcd of {num_1} and {num_2} is {gcd}\")"
      ],
      "metadata": {
        "colab": {
          "base_uri": "https://localhost:8080/"
        },
        "id": "eVBBtTGDtJAL",
        "outputId": "e2af8f10-36c8-4a68-a5ce-002423b189c7"
      },
      "execution_count": 27,
      "outputs": [
        {
          "output_type": "stream",
          "name": "stdout",
          "text": [
            "The gcd of 2 and 8 is 2\n"
          ]
        }
      ]
    },
    {
      "cell_type": "code",
      "source": [
        "import math as m\n",
        "a=5\n",
        "answer=m.factorial(a)\n",
        "print(answer)"
      ],
      "metadata": {
        "colab": {
          "base_uri": "https://localhost:8080/"
        },
        "id": "Om6IRsKnuA3a",
        "outputId": "e489e66e-32e4-42f6-baff-c43ab4409412"
      },
      "execution_count": 3,
      "outputs": [
        {
          "output_type": "stream",
          "name": "stdout",
          "text": [
            "120\n"
          ]
        }
      ]
    },
    {
      "cell_type": "code",
      "source": [
        "import math as m\n",
        "deg=90\n",
        "rad=m.radians(deg)\n",
        "print(rad)"
      ],
      "metadata": {
        "colab": {
          "base_uri": "https://localhost:8080/"
        },
        "id": "5JLODL-hz8O3",
        "outputId": "e7686b59-479a-42d3-e98a-99dbaa624d1d"
      },
      "execution_count": 5,
      "outputs": [
        {
          "output_type": "stream",
          "name": "stdout",
          "text": [
            "1.5707963267948966\n"
          ]
        }
      ]
    },
    {
      "cell_type": "code",
      "source": [
        "import math as m\n",
        "num=4.7\n",
        "ceil=m.ceil(num)\n",
        "floor=m.floor(num)\n",
        "ans=ceil,floor\n",
        "print(ans)"
      ],
      "metadata": {
        "colab": {
          "base_uri": "https://localhost:8080/"
        },
        "id": "eH_SeNwo0SvD",
        "outputId": "1b22eb51-5801-43d1-fb5e-cb0ed3190998"
      },
      "execution_count": 7,
      "outputs": [
        {
          "output_type": "stream",
          "name": "stdout",
          "text": [
            "(5, 4)\n"
          ]
        }
      ]
    }
  ]
}